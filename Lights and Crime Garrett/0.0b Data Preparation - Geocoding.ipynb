{
 "cells": [
  {
   "cell_type": "markdown",
   "metadata": {},
   "source": [
    "# 0.0b Data Preparation - Geocoding\n",
    "Garrett Eason, Chris Broll, Shilpa Rajbhandari"
   ]
  },
  {
   "cell_type": "code",
   "execution_count": null,
   "metadata": {},
   "outputs": [],
   "source": [
    "#%% Packages\n",
    "from __future__ import (absolute_import, division, print_function)\n",
    "from shapely.geometry import Point\n",
    "import pandas as pd\n",
    "import geopandas as gpd\n",
    "from geopandas import GeoDataFrame\n",
    "import datetime as dt\n",
    "\n",
    "#%% Data\n",
    "Windows = 'C:/Users/Sade/Documents/GitHub/lights-and-crime/Lights and Crime Garrett/Data'\n",
    "Linux = '/home/sade/Desktop/Git Cloned Repos/lights-and-crime/Lights and Crime Garrett/Data'\n",
    "\n",
    "choice = Windows"
   ]
  },
  {
   "cell_type": "markdown",
   "metadata": {},
   "source": [
    "## Data"
   ]
  },
  {
   "cell_type": "code",
   "execution_count": null,
   "metadata": {},
   "outputs": [],
   "source": [
    "Lights = pd.read_excel(choice + '/Lights.xlsx')\n",
    "NCR = pd.read_excel(choice + '/NCR.xlsx')"
   ]
  },
  {
   "cell_type": "code",
   "execution_count": null,
   "metadata": {},
   "outputs": [],
   "source": [
    "# Setting up data into geopandas\n",
    "geometry = [Point(xy) for xy in zip(Lights['gpsX'], Lights['gpsY'])]\n",
    "gLights = GeoDataFrame(Lights, geometry=geometry)\n",
    "gLights = gLights.drop_duplicates(subset = ['WoID'])\n",
    "geometry = [Point(xy) for xy in zip(NCR['gpsX'], NCR['gpsY'])]\n",
    "gNCR = GeoDataFrame(NCR, geometry=geometry)\n",
    "\n",
    "BUFFER = .000625 # 1/4th of a city block in radius of Maryland coordinates.\n",
    "#BUFFER = .00125 # 1/2 of a city block in radius of Maryland coordinates.\n",
    "\n",
    "gLights_Buff = gLights.assign(geometry = lambda x: x.geometry.buffer(BUFFER)) \n",
    "# Overwrites geometry variable with a buffer centered at the point of interest. A.k.a. applies the function geometry(x) to gNCR and saves it as geometry.\n",
    "\n",
    "Matched_Lights = gpd.sjoin(gLights_Buff, gNCR, 'left') #2467865 observations after join\n",
    "# Left geojoin by buffer\n",
    "\n",
    "#%% Filtering\n",
    "\n",
    "Matched_Lights['Tdelta'] = [0]*len(Matched_Lights) # Counter to be used\n",
    "\n",
    "Matched_Lights = Matched_Lights.dropna(subset = ['WoCompleted'])\n",
    "Matched_Lights = Matched_Lights.dropna(subset = ['REPORT_DAT'])\n",
    "Matched_Lights = Matched_Lights.reset_index()\n",
    "\n",
    "# Flagging possible lights that influenced crime:\n",
    "for i in range(len(Matched_Lights)):\n",
    "    try:\n",
    "        if abs(Matched_Lights.loc[i, 'WoCompleted'] - Matched_Lights.loc[i, 'REPORT_DAT']).days <= 10:\n",
    "            Matched_Lights.loc[i, 'Tdelta'] = 1\n",
    "    except:\n",
    "        Matched_Lights.loc[i, 'WoCompleted'] = dt.datetime.strptime(Matched_Lights.loc[i, 'WoCompleted'], '%Y-%m-%dT%H:%M:%S.%fZ') # Some values coded incorrectly.\n",
    "        if abs(Matched_Lights.loc[i, 'WoCompleted'] - Matched_Lights.loc[i, 'REPORT_DAT']).days <= 10:\n",
    "            Matched_Lights.loc[i, 'Tdelta'] = 1\n",
    "\n",
    "sum(Matched_Lights['Tdelta'])/len(Matched_Lights) # Very Rough Hit Ratio = .005% (Number of possible crimes to be linked with a light outage)\n",
    "\n",
    "# Lights matched with a crime nearby outside of likely bulb outage\n",
    "Matched_Lights0 = Matched_Lights[Matched_Lights['Tdelta'] == 0].drop_duplicates(subset = ['WoID'])\n",
    "\n",
    "# Lights matched with a crime nearby within timeframe of light outage\n",
    "Matched_Lights1 = Matched_Lights[Matched_Lights['Tdelta'] == 1].drop_duplicates(subset = ['OBJECTID'])\n",
    "\n",
    "# Other light outages were unmatched.\n",
    "\n",
    "#%% To excel\n",
    "\n",
    "Matched_Lights0.to_excel(choice + '/geoLights0.xlsx')\n",
    "Matched_Lights1.to_excel(choice + '/geolights1.xlsx')"
   ]
  }
 ],
 "metadata": {
  "kernelspec": {
   "display_name": "Python 3",
   "language": "python",
   "name": "python3"
  },
  "language_info": {
   "codemirror_mode": {
    "name": "ipython",
    "version": 3
   },
   "file_extension": ".py",
   "mimetype": "text/x-python",
   "name": "python",
   "nbconvert_exporter": "python",
   "pygments_lexer": "ipython3",
   "version": "3.6.5"
  }
 },
 "nbformat": 4,
 "nbformat_minor": 2
}
